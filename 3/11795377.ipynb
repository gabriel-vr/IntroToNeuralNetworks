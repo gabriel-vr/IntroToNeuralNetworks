{
  "cells": [
    {
      "cell_type": "markdown",
      "metadata": {
        "id": "g6hDHYi8vt7T"
      },
      "source": [
        "# Project 3 for Introduction Of Neural Networks Subject (2023.1)\n",
        "\n",
        "## Name: Gabriel Vicente Rodrigues\n",
        "## NUSP: 11795377\n",
        "## Email: gabriel_vr@usp.br\n",
        "\n",
        "The objective of this project is to illustrate the construction of a model using a transfer learning technique."
      ]
    },
    {
      "cell_type": "markdown",
      "metadata": {
        "id": "d10jH_pVvt7a"
      },
      "source": [
        "## Initial Configurations"
      ]
    },
    {
      "cell_type": "code",
      "execution_count": 1,
      "metadata": {
        "id": "6VLxRj1hvt7c"
      },
      "outputs": [
        {
          "name": "stderr",
          "output_type": "stream",
          "text": [
            "2023-07-09 21:07:01.908309: I tensorflow/core/util/port.cc:110] oneDNN custom operations are on. You may see slightly different numerical results due to floating-point round-off errors from different computation orders. To turn them off, set the environment variable `TF_ENABLE_ONEDNN_OPTS=0`.\n",
            "2023-07-09 21:07:01.910283: I tensorflow/tsl/cuda/cudart_stub.cc:28] Could not find cuda drivers on your machine, GPU will not be used.\n",
            "2023-07-09 21:07:01.955375: I tensorflow/tsl/cuda/cudart_stub.cc:28] Could not find cuda drivers on your machine, GPU will not be used.\n",
            "2023-07-09 21:07:01.956151: I tensorflow/core/platform/cpu_feature_guard.cc:182] This TensorFlow binary is optimized to use available CPU instructions in performance-critical operations.\n",
            "To enable the following instructions: AVX2 AVX512F AVX512_VNNI FMA, in other operations, rebuild TensorFlow with the appropriate compiler flags.\n",
            "2023-07-09 21:07:02.771295: W tensorflow/compiler/tf2tensorrt/utils/py_utils.cc:38] TF-TRT Warning: Could not find TensorRT\n"
          ]
        }
      ],
      "source": [
        "import tensorflow as tf\n",
        "import matplotlib.pyplot as plt"
      ]
    },
    {
      "cell_type": "code",
      "execution_count": 2,
      "metadata": {},
      "outputs": [],
      "source": [
        "import os\n",
        "os.environ['TF_CPP_MIN_LOG_LEVEL'] = '2'"
      ]
    },
    {
      "cell_type": "code",
      "execution_count": 3,
      "metadata": {
        "id": "B_zJMgt-a-nm"
      },
      "outputs": [],
      "source": [
        "path = './data/dataset'"
      ]
    },
    {
      "cell_type": "markdown",
      "metadata": {
        "id": "HI-JjOmIvt7g"
      },
      "source": [
        "## Question 1"
      ]
    },
    {
      "cell_type": "markdown",
      "metadata": {
        "id": "DsBU8vksvt7h"
      },
      "source": [
        "### Create the following CNN using Keras:\n",
        "* Convolutional part of the MobileNetV2 network;\n",
        "    * The model must be configured to receive RGB images with 128x128 dimension;\n",
        "    * All the parameters must be frozen;\n",
        "    * The parameters used must be those from the pre trained Imagenet model;\n",
        "* A dense layer with softmax activation function;\n",
        "* Adam optimizer;\n",
        "* Cross-entropy loss;\n",
        "* Accuracy as success metric;"
      ]
    },
    {
      "cell_type": "code",
      "execution_count": 4,
      "metadata": {
        "id": "_ItiElZrvt7i"
      },
      "outputs": [],
      "source": [
        "#Instantiate base model with pre trained featureas a set as non trainable\n",
        "baseModel = tf.keras.applications.mobilenet_v2.MobileNetV2(\n",
        "    input_shape=(128, 128, 3),\n",
        "    weights='imagenet',\n",
        "    include_top=False\n",
        ")\n",
        "\n",
        "baseModel.trainable = False"
      ]
    },
    {
      "cell_type": "code",
      "execution_count": 5,
      "metadata": {},
      "outputs": [],
      "source": [
        "# input layer\n",
        "inputs = tf.keras.Input((128, 128, 3))\n"
      ]
    },
    {
      "cell_type": "code",
      "execution_count": 6,
      "metadata": {},
      "outputs": [],
      "source": [
        "# output layers\n",
        "flatttenLayer  = tf.keras.layers.Flatten()\n",
        "denseLayer = tf.keras.layers.Dense(7, activation='softmax')"
      ]
    },
    {
      "cell_type": "code",
      "execution_count": 7,
      "metadata": {},
      "outputs": [
        {
          "name": "stdout",
          "output_type": "stream",
          "text": [
            "Model: \"model\"\n",
            "_________________________________________________________________\n",
            " Layer (type)                Output Shape              Param #   \n",
            "=================================================================\n",
            " input_2 (InputLayer)        [(None, 128, 128, 3)]     0         \n",
            "                                                                 \n",
            " mobilenetv2_1.00_128 (Funct  (None, 4, 4, 1280)       2257984   \n",
            " ional)                                                          \n",
            "                                                                 \n",
            " flatten (Flatten)           (None, 20480)             0         \n",
            "                                                                 \n",
            " dense (Dense)               (None, 7)                 143367    \n",
            "                                                                 \n",
            "=================================================================\n",
            "Total params: 2,401,351\n",
            "Trainable params: 143,367\n",
            "Non-trainable params: 2,257,984\n",
            "_________________________________________________________________\n"
          ]
        }
      ],
      "source": [
        "#putting all together\n",
        "#x = tf.keras.applications.mobilenet_v2.preprocess_input(inputs)\n",
        "x = baseModel(inputs, training=False)\n",
        "x = flatttenLayer(x)\n",
        "outputs = denseLayer(x)\n",
        "model = tf.keras.Model(inputs, outputs )\n",
        "\n",
        "\n",
        "model.summary()"
      ]
    },
    {
      "cell_type": "code",
      "execution_count": 8,
      "metadata": {},
      "outputs": [],
      "source": [
        "model.compile(optimizer='adam', loss='categorical_crossentropy', metrics=['accuracy'])\n"
      ]
    },
    {
      "cell_type": "markdown",
      "metadata": {
        "id": "2ZxmMCc4vt7l"
      },
      "source": [
        "## Question 2"
      ]
    },
    {
      "cell_type": "markdown",
      "metadata": {},
      "source": [
        "### Train the model using the following protocol:\n",
        "* Allow the training data to be distorted using the following transformations:\n",
        "    * horizontal_flip=True;\n",
        "    * zoom_range=0.2;\n",
        "    * shear_range=10;\n",
        "    * height_shift_range=0.1;\n",
        "    * width_shift_range=0.1;\n",
        "* Using mini-batches of 32 images;\n",
        "* The model must be trained for 10 epochs, which means it will proccess a number of images 10 times bigger than the training dataset;\n",
        "* Keep up with the accuracy of the model for the train and test dataset by the end of each epoch;"
      ]
    },
    {
      "cell_type": "code",
      "execution_count": 9,
      "metadata": {},
      "outputs": [
        {
          "name": "stdout",
          "output_type": "stream",
          "text": [
            "Found 2284 images belonging to 7 classes.\n"
          ]
        }
      ],
      "source": [
        "train_datagen = tf.keras.preprocessing.image.ImageDataGenerator(\n",
        "    horizontal_flip=True,\n",
        "    zoom_range=0.2,\n",
        "    shear_range=10,\n",
        "    height_shift_range=0.1,\n",
        "    width_shift_range=0.1,\n",
        "    preprocessing_function=tf.keras.applications.mobilenet_v2.preprocess_input\n",
        ")\n",
        "train_generator = train_datagen.flow_from_directory(\n",
        "        path + '/train',\n",
        "        batch_size=32,\n",
        "        shuffle=False,\n",
        "        target_size=(128, 128),\n",
        "    )"
      ]
    },
    {
      "cell_type": "code",
      "execution_count": 10,
      "metadata": {},
      "outputs": [
        {
          "name": "stdout",
          "output_type": "stream",
          "text": [
            "Epoch 1/10\n"
          ]
        },
        {
          "name": "stderr",
          "output_type": "stream",
          "text": [
            "2023-07-09 21:07:05.786750: I tensorflow/core/common_runtime/executor.cc:1197] [/device:CPU:0] (DEBUG INFO) Executor start aborting (this does not indicate an error and you can ignore this message): INVALID_ARGUMENT: You must feed a value for placeholder tensor 'Placeholder/_0' with dtype int32\n",
            "\t [[{{node Placeholder/_0}}]]\n"
          ]
        },
        {
          "name": "stdout",
          "output_type": "stream",
          "text": [
            "72/72 [==============================] - 14s 159ms/step - loss: 10.8802 - accuracy: 0.3542\n",
            "Epoch 2/10\n",
            "72/72 [==============================] - 12s 162ms/step - loss: 2.9116 - accuracy: 0.7434\n",
            "Epoch 3/10\n",
            "72/72 [==============================] - 11s 156ms/step - loss: 0.9412 - accuracy: 0.8511\n",
            "Epoch 4/10\n",
            "72/72 [==============================] - 12s 162ms/step - loss: 0.4947 - accuracy: 0.9063\n",
            "Epoch 5/10\n",
            "72/72 [==============================] - 11s 154ms/step - loss: 0.7430 - accuracy: 0.8673\n",
            "Epoch 6/10\n",
            "72/72 [==============================] - 12s 160ms/step - loss: 0.3143 - accuracy: 0.9282\n",
            "Epoch 7/10\n",
            "72/72 [==============================] - 12s 166ms/step - loss: 0.2778 - accuracy: 0.9335\n",
            "Epoch 8/10\n",
            "72/72 [==============================] - 11s 156ms/step - loss: 0.2649 - accuracy: 0.9370\n",
            "Epoch 9/10\n",
            "72/72 [==============================] - 12s 165ms/step - loss: 0.2255 - accuracy: 0.9413\n",
            "Epoch 10/10\n",
            "72/72 [==============================] - 12s 160ms/step - loss: 0.9596 - accuracy: 0.8586\n"
          ]
        }
      ],
      "source": [
        "history = model.fit(train_generator, epochs=10)"
      ]
    },
    {
      "cell_type": "code",
      "execution_count": 11,
      "metadata": {},
      "outputs": [
        {
          "data": {
            "text/plain": [
              "[<matplotlib.lines.Line2D at 0x7f344b54fac0>]"
            ]
          },
          "execution_count": 11,
          "metadata": {},
          "output_type": "execute_result"
        },
        {
          "data": {
            "image/png": "[encoded data removed]",
            "text/plain": [
              "<Figure size 1000x500 with 1 Axes>"
            ]
          },
          "metadata": {},
          "output_type": "display_data"
        }
      ],
      "source": [
        "history.history\n",
        "plt.figure(figsize=(10, 5))\n",
        "plt.title(\"Accuracy for each epoch of training\")\n",
        "plt.xlabel(\"Epoch\")\n",
        "plt.ylabel(\"Accuracy\")\n",
        "plt.plot(range(len(history.history['accuracy'])), history.history['accuracy'], marker='o')\n"
      ]
    },
    {
      "cell_type": "code",
      "execution_count": 12,
      "metadata": {},
      "outputs": [
        {
          "data": {
            "text/plain": [
              "[<matplotlib.lines.Line2D at 0x7f344b48d3d0>]"
            ]
          },
          "execution_count": 12,
          "metadata": {},
          "output_type": "execute_result"
        },
        {
          "data": {
            "image/png": "[encoded data removed]",
            "text/plain": [
              "<Figure size 1000x500 with 1 Axes>"
            ]
          },
          "metadata": {},
          "output_type": "display_data"
        }
      ],
      "source": [
        "plt.figure(figsize=(10, 5))\n",
        "plt.title(\"Loss for each epoch of training\")\n",
        "plt.xlabel(\"Epoch\")\n",
        "plt.ylabel(\"Loss\")\n",
        "plt.plot(range(len(history.history['loss'])), history.history['loss'], marker='o')"
      ]
    },
    {
      "cell_type": "code",
      "execution_count": 13,
      "metadata": {},
      "outputs": [
        {
          "name": "stdout",
          "output_type": "stream",
          "text": [
            "Found 1400 images belonging to 7 classes.\n"
          ]
        }
      ],
      "source": [
        "test_datagen = tf.keras.preprocessing.image.ImageDataGenerator()\n",
        "test_generator = test_datagen.flow_from_directory(\n",
        "        path + '/test',\n",
        "        batch_size=32,\n",
        "        shuffle=False,\n",
        "        target_size=(128, 128),\n",
        "    )"
      ]
    },
    {
      "cell_type": "code",
      "execution_count": 14,
      "metadata": {},
      "outputs": [
        {
          "name": "stderr",
          "output_type": "stream",
          "text": [
            "2023-07-09 21:09:04.790160: I tensorflow/core/common_runtime/executor.cc:1197] [/device:CPU:0] (DEBUG INFO) Executor start aborting (this does not indicate an error and you can ignore this message): INVALID_ARGUMENT: You must feed a value for placeholder tensor 'Placeholder/_0' with dtype int32\n",
            "\t [[{{node Placeholder/_0}}]]\n"
          ]
        },
        {
          "name": "stdout",
          "output_type": "stream",
          "text": [
            "44/44 - 7s - loss: 8.5780 - accuracy: 0.1721 - 7s/epoch - 156ms/step\n"
          ]
        }
      ],
      "source": [
        "evaluation = model.evaluate(test_generator, verbose=2)"
      ]
    },
    {
      "cell_type": "code",
      "execution_count": 15,
      "metadata": {},
      "outputs": [
        {
          "name": "stdout",
          "output_type": "stream",
          "text": [
            "The test dataset obtained a accuracy of 17.21428632736206 percent with a loss of 8.578015327453613.\n"
          ]
        }
      ],
      "source": [
        "print(\"The test dataset obtained a accuracy of {} percent with a loss of {}.\".format(evaluation[1]*100, evaluation[0]))"
      ]
    },
    {
      "cell_type": "markdown",
      "metadata": {},
      "source": [
        "The accuracy graph shows that it increases pretty fast after the first two epochs and then tries to stabilize around the 90% range. For the test dataset, the accuracy drops 3 percent, which is fine for our purposes. \n",
        "\n",
        "These results are pretty good, indicating the flexibility of using pre trained features to train a new model with less entries in the dataset."
      ]
    }
  ],
  "metadata": {
    "colab": {
      "collapsed_sections": [
        "d10jH_pVvt7a",
        "HI-JjOmIvt7g",
        "DsBU8vksvt7h",
        "2ZxmMCc4vt7l",
        "9Vm_pxjtvt7r",
        "_iRexhtKvt7t",
        "0M8ppFcXvt7u",
        "JyZ1VB-6vt7w",
        "M36O2yUSvt7y",
        "zWTHZt_Nvt7y",
        "KTqSFJzSvt7z",
        "jvpX9NbOvt7z",
        "HT11NYm-vt7z",
        "kTZbaZ-Mvt70",
        "Vg2G-tARvt70",
        "kC0KBtQ4vt70"
      ],
      "provenance": []
    },
    "kernelspec": {
      "display_name": "Python 3",
      "language": "python",
      "name": "python3"
    },
    "language_info": {
      "codemirror_mode": {
        "name": "ipython",
        "version": 3
      },
      "file_extension": ".py",
      "mimetype": "text/x-python",
      "name": "python",
      "nbconvert_exporter": "python",
      "pygments_lexer": "ipython3",
      "version": "3.8.10"
    },
    "orig_nbformat": 4
  },
  "nbformat": 4,
  "nbformat_minor": 0
}
